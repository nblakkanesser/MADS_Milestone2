{
 "cells": [
  {
   "cell_type": "code",
   "execution_count": 6,
   "metadata": {},
   "outputs": [],
   "source": [
    "#File to track needed intalls - should be adding versions to these things?\n",
    "#or some other (docker etc.) environment saver\n",
    "#! pip install matplotlib\n",
    "#! pip install statsmodels\n",
    "#! pip install seaborn\n",
    "#! pip install scikit-learn\n",
    "#! pip install numpy\n",
    "#! pip install pandas\n",
    "#! pip install scikit-learn-extra\n",
    "#! pip install requests\n",
    "#! pip install geopandas"
   ]
  }
 ],
 "metadata": {
  "kernelspec": {
   "display_name": ".venv",
   "language": "python",
   "name": "python3"
  },
  "language_info": {
   "codemirror_mode": {
    "name": "ipython",
    "version": 3
   },
   "file_extension": ".py",
   "mimetype": "text/x-python",
   "name": "python",
   "nbconvert_exporter": "python",
   "pygments_lexer": "ipython3",
   "version": "3.11.8"
  }
 },
 "nbformat": 4,
 "nbformat_minor": 2
}
