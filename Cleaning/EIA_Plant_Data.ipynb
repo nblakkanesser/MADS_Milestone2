{
 "cells": [
  {
   "cell_type": "code",
   "execution_count": 2,
   "id": "conceptual-african",
   "metadata": {},
   "outputs": [
    {
     "name": "stderr",
     "output_type": "stream",
     "text": [
      "/var/folders/lq/0q3fzmb57s3c187k6gjyx3_00000gn/T/ipykernel_10724/4035540452.py:2: DeprecationWarning: \n",
      "Pyarrow will become a required dependency of pandas in the next major release of pandas (pandas 3.0),\n",
      "(to allow more performant data types, such as the Arrow string type, and better interoperability with other libraries)\n",
      "but was not found to be installed on your system.\n",
      "If this would cause problems for you,\n",
      "please provide us feedback at https://github.com/pandas-dev/pandas/issues/54466\n",
      "        \n",
      "  import pandas as pd\n"
     ]
    }
   ],
   "source": [
    "import requests\n",
    "import pandas as pd  "
   ]
  },
  {
   "cell_type": "code",
   "execution_count": 3,
   "id": "built-staff",
   "metadata": {},
   "outputs": [],
   "source": [
    "#MI Annual Plant Data to get Plant Codes\n",
    "api = '' #Register for an API key here https://www.eia.gov/opendata/register.php\n",
    "\n",
    "#data features to use\n",
    "data = ['total-consumption','total-consumption-btu','generation','gross-generation',\n",
    "        'consumption-for-eg','consumption-for-eg-btu','average-heat-content']\n",
    "\n",
    "\n",
    "def api_url (data=['total-consumption'], fuel=['WH','NG'], states=[], plant=[],\n",
    "             frequency='monthly', start=[], end=[], primeMover=['ALL'], api=api):\n",
    "    \"Given data parameters, creates an api URL for the EIA\"\n",
    "    \n",
    "    datas = ''.join([f'data[]={x}&' for x in data])\n",
    "    fuels = ''.join([f'facets[fuel2002][]={x}&' for x in fuel])\n",
    "    plants = ''.join([f'facets[plantCode][]={x}&' for x in plant])\n",
    "    statess = ''.join([f'facets[state][]={x}&' for x in states])\n",
    "    mover = ''.join([f'facets[primeMover][]={x}&' for x in primeMover])\n",
    "    freq = f'frequency={frequency}&'\n",
    "    start = ''.join([f'start={x}&' for x in start])\n",
    "    end = ''.join([f'end={x}&' for x in end])\n",
    "    api_key = f'api_key={api}'\n",
    "\n",
    "    url = f'https://api.eia.gov/v2/electricity/facility-fuel/data?{datas}{fuels}{statess}{mover}{plants}{freq}{start}{end}{api_key}'\n",
    "    print(url)\n",
    "    return url"
   ]
  },
  {
   "cell_type": "code",
   "execution_count": 4,
   "id": "tribal-cause",
   "metadata": {},
   "outputs": [],
   "source": [
    "def pd_from_api (data=['total-consumption'], fuel=['WH','NG'], states=[], plants=[],\n",
    "             frequency='monthly', start=[], end=[], primeMover=['ALL'], api=api):\n",
    "    \"\"\"Given data parameters, such as state and time frame, uses api_url to pull data from EIA and create\n",
    "    a pandas data frame - can be used to find plant codes for a specific state, or to pull data for a plant\"\"\"\n",
    "    if plants==[]:\n",
    "        url = api_url(data=data, fuel=fuel, states=states,\n",
    "             frequency=frequency, start=start, end=end, primeMover=primeMover, api=api)\n",
    "        r = requests.get(url)\n",
    "        txt = r.json()\n",
    "        df = pd.DataFrame(txt['response']['data'])\n",
    "    else:\n",
    "        for code in plants:\n",
    "            url = api_url(data=data, fuel=fuel, states=states, plant=[code],\n",
    "                 frequency=frequency, start=start, end=end, primeMover=primeMover, api=api)\n",
    "            r = requests.get(url)\n",
    "            txt = r.json()\n",
    "            temp_df = pd.DataFrame(txt['response']['data'])\n",
    "            try:\n",
    "                df = pd.concat([temp_df, df], ignore_index=True, axis=0)\n",
    "            except:\n",
    "                df = temp_df\n",
    "            \n",
    "    df['plantCode'] = df['plantCode'].astype(int) #so can merge with location data Plant_Code\n",
    "    \n",
    "    return df\n"
   ]
  },
  {
   "cell_type": "code",
   "execution_count": 5,
   "id": "dressed-mambo",
   "metadata": {},
   "outputs": [],
   "source": [
    "def add_location(df, output_name):\n",
    "    \"\"\"Input: df with plantCode and an output file name\n",
    "    Output: df merged with location data for longitude and latitude, and saved as CSV\"\"\"\n",
    "    location_df = pd.read_csv('Power_Plants_in_the_U.S.csv')\n",
    "    combo_df = pd.merge(df, location_df, how='left', left_on='plantCode', right_on='Plant_Code')\n",
    "    combo_df.to_csv(output_name, index=False)\n",
    "    return combo_df"
   ]
  },
  {
   "cell_type": "code",
   "execution_count": 7,
   "id": "coordinated-wells",
   "metadata": {},
   "outputs": [],
   "source": [
    "def pull_state (state, start=['2019-01-01'],end=['2023-12-31'], primeMover=['ALL']):\n",
    "    \"\"\"Input: 2-letter state code, start and end dates in a list format\n",
    "    Output: df of total monthly natural gas consumption data for all plants in a given state for a given data range\n",
    "        primeMover default is 'ALL' and date range is the last 5 years (2019-2023)\"\"\"\n",
    "    plants = pd_from_api(states=[state],frequency='annual')\n",
    "    df = pd_from_api(data=data, states=[state],frequency='monthly', plants=plants.plantCode.unique(), \n",
    "                     start=start, end=end)\n",
    "    #df.to_csv(f'{state}_Plant.csv', index=False)\n",
    "    \n",
    "    #add in location data and save as 'Plant_Location_St.csv'\n",
    "    df_location = add_location(df, f'Plant_Location_{state}.csv')\n",
    "    return  print(f'{state} data downloaded and saved') #df_location uncomment to explore"
   ]
  },
  {
   "cell_type": "code",
   "execution_count": 12,
   "id": "informal-longer",
   "metadata": {},
   "outputs": [],
   "source": [
    "continental_states = ['AL', 'AR', 'AZ', 'CA', 'CO', 'CT', 'DE', 'FL', 'GA',\n",
    "           'IA', 'ID', 'IL', 'IN', 'KS', 'KY', 'LA', 'MA', 'MD', 'ME',\n",
    "           'MI', 'MN', 'MO', 'MS', 'MT', 'NC', 'ND', 'NE', 'NH', 'NJ', 'NM',\n",
    "           'NV', 'NY', 'OH', 'OK', 'OR', 'PA', 'RI', 'SC', 'SD', 'TN', 'TX',\n",
    "           'UT', 'VA', 'VT', 'WA', 'WI', 'WV', 'WY']"
   ]
  },
  {
   "cell_type": "code",
   "execution_count": null,
   "id": "valued-intervention",
   "metadata": {},
   "outputs": [],
   "source": [
    "#Run to pull data for all states and save each as a seperate csv: 'Plant_Location_STATE.csv'\n",
    "for state in continental_states:\n",
    "    pull_state(state)"
   ]
  },
  {
   "cell_type": "code",
   "execution_count": 9,
   "id": "3ee1d38a",
   "metadata": {},
   "outputs": [],
   "source": [
    "sample_states = ['FL','MI', 'TX', 'WA']"
   ]
  },
  {
   "cell_type": "code",
   "execution_count": 25,
   "id": "42fef1a0",
   "metadata": {},
   "outputs": [],
   "source": [
    "def data_stats():\n",
    "    '''Prints out stats on data size and features for EIA Consumption data pulled from API and Location data'''\n",
    "    locations = pd.read_csv('Power_Plants_in_the_U.S.csv')\n",
    "    print(f'{len(locations)} rows in Location Data')\n",
    "    print(f'{len(locations.columns)} features in Location Data')\n",
    "    print(f'Features in Location Data: {locations.columns}')\n",
    "    us = 0\n",
    "    sample = 0\n",
    "    features = []\n",
    "    for state in continental_states:\n",
    "        df  = pd.read_csv(f'Plant_Location_{state}.csv')\n",
    "        if us ==0:\n",
    "            features = df.columns\n",
    "        us += len(df)\n",
    "        if state in sample_states:\n",
    "            sample += len(df)\n",
    "    print(f'{us} rows in US NG Consumption Data')\n",
    "    print(f'{sample} rows in Sample NG Consumption Data')\n",
    "    print(f'{len(features)-len(locations.columns)} features in NG Consumption Data')\n",
    "    print(f'Features in NG Consumption Data: {features}')\n",
    "\n"
   ]
  },
  {
   "cell_type": "code",
   "execution_count": 26,
   "id": "5f54fa1f",
   "metadata": {},
   "outputs": [
    {
     "name": "stdout",
     "output_type": "stream",
     "text": [
      "12008 rows in Location Data\n",
      "35 features in Location Data\n",
      "Features in Location Data: Index(['X', 'Y', 'FID', 'OBJECTID', 'Plant_Code', 'Plant_Name', 'Utility_ID',\n",
      "       'Utility_Na', 'sector_nam', 'Street_Add', 'City', 'County', 'State',\n",
      "       'Zip', 'PrimSource', 'source_des', 'tech_desc', 'Install_MW',\n",
      "       'Total_MW', 'Bat_MW', 'Bio_MW', 'Coal_MW', 'Geo_MW', 'Hydro_MW',\n",
      "       'HydroPS_MW', 'NG_MW', 'Nuclear_MW', 'Crude_MW', 'Solar_MW', 'Wind_MW',\n",
      "       'Other_MW', 'Source', 'Period', 'Longitude', 'Latitude'],\n",
      "      dtype='object')\n",
      "130213 rows in US NG Consumption Data\n",
      "23226 rows in Sample NG Consumption Data\n",
      "22 features in NG Consumption Data\n",
      "Features in NG Consumption Data: Index(['period', 'plantCode', 'plantName', 'fuel2002', 'fuelTypeDescription',\n",
      "       'state', 'stateDescription', 'primeMover', 'total-consumption',\n",
      "       'total-consumption-units', 'total-consumption-btu', 'generation',\n",
      "       'gross-generation', 'consumption-for-eg', 'consumption-for-eg-units',\n",
      "       'consumption-for-eg-btu', 'average-heat-content',\n",
      "       'average-heat-content-units', 'total-consumption-btu-units',\n",
      "       'generation-units', 'gross-generation-units',\n",
      "       'consumption-for-eg-btu-units', 'X', 'Y', 'FID', 'OBJECTID',\n",
      "       'Plant_Code', 'Plant_Name', 'Utility_ID', 'Utility_Na', 'sector_nam',\n",
      "       'Street_Add', 'City', 'County', 'State', 'Zip', 'PrimSource',\n",
      "       'source_des', 'tech_desc', 'Install_MW', 'Total_MW', 'Bat_MW', 'Bio_MW',\n",
      "       'Coal_MW', 'Geo_MW', 'Hydro_MW', 'HydroPS_MW', 'NG_MW', 'Nuclear_MW',\n",
      "       'Crude_MW', 'Solar_MW', 'Wind_MW', 'Other_MW', 'Source', 'Period',\n",
      "       'Longitude', 'Latitude'],\n",
      "      dtype='object')\n"
     ]
    }
   ],
   "source": [
    "data_stats()"
   ]
  }
 ],
 "metadata": {
  "kernelspec": {
   "display_name": "Python 3",
   "language": "python",
   "name": "python3"
  },
  "language_info": {
   "codemirror_mode": {
    "name": "ipython",
    "version": 3
   },
   "file_extension": ".py",
   "mimetype": "text/x-python",
   "name": "python",
   "nbconvert_exporter": "python",
   "pygments_lexer": "ipython3",
   "version": "3.11.8"
  }
 },
 "nbformat": 4,
 "nbformat_minor": 5
}
