{
 "cells": [
  {
   "cell_type": "code",
   "execution_count": 2,
   "id": "conceptual-african",
   "metadata": {},
   "outputs": [],
   "source": [
    "import requests\n",
    "import pandas as pd  "
   ]
  },
  {
   "cell_type": "code",
   "execution_count": 3,
   "id": "built-staff",
   "metadata": {},
   "outputs": [],
   "source": [
    "#MI Annual Plant Data to get Plant Codes\n",
    "api = '' #Register for an API key here https://www.eia.gov/opendata/register.php\n",
    "\n",
    "#data features to use\n",
    "data = ['total-consumption','total-consumption-btu','generation','gross-generation',\n",
    "        'consumption-for-eg','consumption-for-eg-btu','average-heat-content']\n",
    "\n",
    "\n",
    "def api_url (data=['total-consumption'], fuel=['WH','NG'], states=[], plant=[],\n",
    "             frequency='monthly', start=[], end=[], primeMover=['ALL'], api=api):\n",
    "    \"Given data parameters, creates an api URL for the EIA\"\n",
    "    \n",
    "    datas = ''.join([f'data[]={x}&' for x in data])\n",
    "    fuels = ''.join([f'facets[fuel2002][]={x}&' for x in fuel])\n",
    "    plants = ''.join([f'facets[plantCode][]={x}&' for x in plant])\n",
    "    statess = ''.join([f'facets[state][]={x}&' for x in states])\n",
    "    mover = ''.join([f'facets[primeMover][]={x}&' for x in primeMover])\n",
    "    freq = f'frequency={frequency}&'\n",
    "    start = ''.join([f'start={x}&' for x in start])\n",
    "    end = ''.join([f'end={x}&' for x in end])\n",
    "    api_key = f'api_key={api}'\n",
    "\n",
    "    url = f'https://api.eia.gov/v2/electricity/facility-fuel/data?{datas}{fuels}{statess}{mover}{plants}{freq}{start}{end}{api_key}'\n",
    "    print(url)\n",
    "    return url"
   ]
  },
  {
   "cell_type": "code",
   "execution_count": 4,
   "id": "tribal-cause",
   "metadata": {},
   "outputs": [],
   "source": [
    "def pd_from_api (data=['total-consumption'], fuel=['WH','NG'], states=[], plants=[],\n",
    "             frequency='monthly', start=[], end=[], primeMover=['ALL'], api=api):\n",
    "    \"\"\"Given data parameters, such as state and time frame, uses api_url to pull data from EIA and create\n",
    "    a pandas data frame - can be used to find plant codes for a specific state, or to pull data for a plant\"\"\"\n",
    "    if plants==[]:\n",
    "        url = api_url(data=data, fuel=fuel, states=states,\n",
    "             frequency=frequency, start=start, end=end, primeMover=primeMover, api=api)\n",
    "        r = requests.get(url)\n",
    "        txt = r.json()\n",
    "        df = pd.DataFrame(txt['response']['data'])\n",
    "    else:\n",
    "        for code in plants:\n",
    "            url = api_url(data=data, fuel=fuel, states=states, plant=[code],\n",
    "                 frequency=frequency, start=start, end=end, primeMover=primeMover, api=api)\n",
    "            r = requests.get(url)\n",
    "            txt = r.json()\n",
    "            temp_df = pd.DataFrame(txt['response']['data'])\n",
    "            try:\n",
    "                df = pd.concat([temp_df, df], ignore_index=True, axis=0)\n",
    "            except:\n",
    "                df = temp_df\n",
    "            \n",
    "    df['plantCode'] = df['plantCode'].astype(int) #so can merge with location data Plant_Code\n",
    "    \n",
    "    return df\n"
   ]
  },
  {
   "cell_type": "code",
   "execution_count": 5,
   "id": "dressed-mambo",
   "metadata": {},
   "outputs": [],
   "source": [
    "def add_location(df, output_name):\n",
    "    \"\"\"Input: df with plantCode and an output file name\n",
    "    Output: df merged with location data for longitude and latitude, and saved as CSV\"\"\"\n",
    "    location_df = pd.read_csv('Power_Plants_in_the_U.S..csv')\n",
    "    combo_df = pd.merge(df, location_df, how='left', left_on='plantCode', right_on='Plant_Code')\n",
    "    combo_df.to_csv(output_name, index=False)\n",
    "    return combo_dff"
   ]
  },
  {
   "cell_type": "code",
   "execution_count": 7,
   "id": "coordinated-wells",
   "metadata": {},
   "outputs": [],
   "source": [
    "def pull_state (state, start=['2019-01-01'],end=['2023-12-31'], primeMover=['ALL']):\n",
    "    \"\"\"Input: 2-letter state code, start and end dates in a list format\n",
    "    Output: df of total monthly natural gas consumption data for all plants in a given state for a given data range\n",
    "        primeMover default is 'ALL' and date range is the last 5 years (2019-2023)\"\"\"\n",
    "    plants = pd_from_api(states=[state],frequency='annual')\n",
    "    df = pd_from_api(data=data, states=[state],frequency='monthly', plants=plants.plantCode.unique(), \n",
    "                     start=start, end=end)\n",
    "    #df.to_csv(f'{state}_Plant.csv', index=False)\n",
    "    \n",
    "    #add in location data and save as 'State_Plant_location.csv'\n",
    "    df_location = add_location(df, f'{state}_Plant_Location.csv')\n",
    "    return  print(f'{state} data downloaded and saved') #df_location"
   ]
  },
  {
   "cell_type": "code",
   "execution_count": 1,
   "id": "solar-hurricane",
   "metadata": {},
   "outputs": [],
   "source": [
    "#pull_state('MI')"
   ]
  },
  {
   "cell_type": "code",
   "execution_count": null,
   "id": "informal-longer",
   "metadata": {},
   "outputs": [],
   "source": [
    "continental_states = ['AL', 'AR', 'AZ', 'CA', 'CO', 'CT', 'DE', 'FL', 'GA',\n",
    "           'IA', 'ID', 'IL', 'IN', 'KS', 'KY', 'LA', 'MA', 'MD', 'ME',\n",
    "           'MI', 'MN', 'MO', 'MS', 'MT', 'NC', 'ND', 'NE', 'NH', 'NJ', 'NM',\n",
    "           'NV', 'NY', 'OH', 'OK', 'OR', 'PA', 'RI', 'SC', 'SD', 'TN', 'TX',\n",
    "           'UT', 'VA', 'VT', 'WA', 'WI', 'WV', 'WY']"
   ]
  },
  {
   "cell_type": "code",
   "execution_count": null,
   "id": "valued-intervention",
   "metadata": {},
   "outputs": [],
   "source": [
    "#Run to pull data for all states and save each as a seperate csv: 'STATEs_Plant_Location.csv'\n",
    "for state in continental_states:\n",
    "    pull_state(state)"
   ]
  }
 ],
 "metadata": {
  "kernelspec": {
   "display_name": "Python 3",
   "language": "python",
   "name": "python3"
  },
  "language_info": {
   "codemirror_mode": {
    "name": "ipython",
    "version": 3
   },
   "file_extension": ".py",
   "mimetype": "text/x-python",
   "name": "python",
   "nbconvert_exporter": "python",
   "pygments_lexer": "ipython3",
   "version": "3.7.10"
  }
 },
 "nbformat": 4,
 "nbformat_minor": 5
}
