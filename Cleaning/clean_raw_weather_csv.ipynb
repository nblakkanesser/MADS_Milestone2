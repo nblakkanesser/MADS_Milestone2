{
 "cells": [
  {
   "cell_type": "code",
   "execution_count": 1016,
   "id": "6e6c3ce4",
   "metadata": {},
   "outputs": [],
   "source": [
    "import pandas as pd\n",
    "import numpy as np\n",
    "pd.options.mode.chained_assignment = None  # default='warn'"
   ]
  },
  {
   "cell_type": "markdown",
   "id": "43a05ccd",
   "metadata": {},
   "source": [
    "## For each state/year of raw data, the 'state' and 'year' variables in the box of code below are the only lines of code that need to be changed for each run"
   ]
  },
  {
   "cell_type": "code",
   "execution_count": 1017,
   "id": "bc128b73",
   "metadata": {},
   "outputs": [],
   "source": [
    "state = 'WA'\n",
    "year = '2023'\n",
    "inpath = 'F:/Libraries/My Documents/UM/Milestone II/Weather_' + state + '_' + year + '.csv'\n",
    "outpath = 'F:/Libraries/My Documents/UM/Milestone II/Weather_' + state + '_' + year + '_cleaned2.csv'"
   ]
  },
  {
   "cell_type": "code",
   "execution_count": 1018,
   "id": "4e3cee77",
   "metadata": {},
   "outputs": [],
   "source": [
    "weather_df = pd.read_csv(inpath, low_memory=False)"
   ]
  },
  {
   "cell_type": "code",
   "execution_count": 1019,
   "id": "11025896",
   "metadata": {},
   "outputs": [],
   "source": [
    "# remove that last blank row with the odd character in the station column\n",
    "weather_df = weather_df.dropna()"
   ]
  },
  {
   "cell_type": "code",
   "execution_count": 1020,
   "id": "38ffe988",
   "metadata": {},
   "outputs": [],
   "source": [
    "# drop the 'attributes' columns and other columns that we don't want\n",
    "weather_df = weather_df.drop(['TEMP_ATTRIBUTES', 'DEWP_ATTRIBUTES', 'SLP_ATTRIBUTES', 'STP_ATTRIBUTES', 'VISIB_ATTRIBUTES', \\\n",
    "                              'WDSP_ATTRIBUTES', 'MAX_ATTRIBUTES', 'MIN_ATTRIBUTES', 'PRCP_ATTRIBUTES', \\\n",
    "                              'SLP', 'STP', 'FRSHTT'], axis=1)"
   ]
  },
  {
   "cell_type": "code",
   "execution_count": 1021,
   "id": "28d8d222",
   "metadata": {},
   "outputs": [],
   "source": [
    "# remove duplicate header rows\n",
    "weather_df = weather_df[weather_df['STATION'] != 'STATION']"
   ]
  },
  {
   "cell_type": "code",
   "execution_count": 1022,
   "id": "b2b41c39",
   "metadata": {},
   "outputs": [],
   "source": [
    "to_numeric_list = ['TEMP', 'DEWP', 'VISIB', 'WDSP', 'MXSPD', 'GUST', 'MAX', 'MIN', 'PRCP', 'SNDP']\n",
    "weather_df[to_numeric_list] = weather_df[to_numeric_list].apply(pd.to_numeric)"
   ]
  },
  {
   "cell_type": "code",
   "execution_count": 1023,
   "id": "87613934",
   "metadata": {},
   "outputs": [],
   "source": [
    "# clean up dummy 9s values\n",
    "weather_df.loc[weather_df['TEMP'] >= 999, 'TEMP'] = 50 # not sure this ever happens...\n",
    "weather_df.loc[weather_df['WDSP'] >= 999, 'WDSP'] = 0\n",
    "weather_df.loc[weather_df['MXSPD'] >= 999, 'MXSPD'] = 0\n",
    "weather_df.loc[weather_df['GUST'] >= 999, 'GUST'] = 0\n",
    "weather_df.loc[weather_df['PRCP'] >= 99, 'PRCP'] = 0\n",
    "weather_df.loc[weather_df['SNDP'] >= 999, 'SNDP'] = 0\n",
    "weather_df.loc[weather_df['DEWP'] >= 9999, 'DEWP'] = weather_df['TEMP'] - 15 # avg in relation to temp\n",
    "weather_df.loc[weather_df['VISIB'] >= 999, 'VISIB'] = 9.3 # avg"
   ]
  },
  {
   "cell_type": "code",
   "execution_count": 1024,
   "id": "b440bc35",
   "metadata": {},
   "outputs": [],
   "source": [
    "# if MAX temp is below average temp (must be a dummy value), set to average temp of the day\n",
    "# if MIN temp is above average temp (must be a dummy value), set to average temp of the day\n",
    "for i in weather_df.index:\n",
    "    daily_avg_temp = weather_df['TEMP'][i]\n",
    "    if weather_df['MAX'][i] < daily_avg_temp:\n",
    "        weather_df['MAX'][i] = daily_avg_temp\n",
    "    if weather_df['MAX'][i] >= 999:\n",
    "        weather_df['MAX'][i] = daily_avg_temp\n",
    "    if weather_df['MIN'][i] > daily_avg_temp:\n",
    "        weather_df['MIN'][i] = daily_avg_temp"
   ]
  },
  {
   "cell_type": "code",
   "execution_count": 1025,
   "id": "842500d3",
   "metadata": {},
   "outputs": [],
   "source": [
    "# create new temp extremity measures\n",
    "weather_df['TEMPEXT_BASE40'] = abs(weather_df['TEMP']-40)\n",
    "weather_df['TEMPEXT_BASE45'] = abs(weather_df['TEMP']-45)\n",
    "weather_df['TEMPEXT_BASE50'] = abs(weather_df['TEMP']-50)\n",
    "    "
   ]
  },
  {
   "cell_type": "code",
   "execution_count": 1026,
   "id": "a9e95a21",
   "metadata": {},
   "outputs": [],
   "source": [
    "# create new temp bounds variables, default 0\n",
    "weather_df['OVER_60'] = 0\n",
    "weather_df['OVER_70'] = 0\n",
    "weather_df['OVER_80'] = 0\n",
    "weather_df['UNDER_40'] = 0\n",
    "weather_df['UNDER_30'] = 0\n",
    "weather_df['UNDER_20'] = 0\n",
    "weather_df['SUM_OVER_UNDER'] = 0\n",
    "\n",
    "# set new temp bounds variables\n",
    "weather_df.loc[weather_df['TEMP'] >= 60, 'OVER_60'] = 1\n",
    "weather_df.loc[weather_df['TEMP'] >= 70, 'OVER_70'] = 1\n",
    "weather_df.loc[weather_df['TEMP'] >= 80, 'OVER_80'] = 1\n",
    "weather_df.loc[weather_df['TEMP'] <= 40, 'UNDER_40'] = 1\n",
    "weather_df.loc[weather_df['TEMP'] <= 30, 'UNDER_30'] = 1\n",
    "weather_df.loc[weather_df['TEMP'] <= 20, 'UNDER_20'] = 1\n",
    "weather_df['SUM_OVER_UNDER'] = weather_df['OVER_60'] + weather_df['OVER_70'] + weather_df['OVER_80'] + \\\n",
    "                               weather_df['UNDER_40'] + weather_df['UNDER_30'] + weather_df['UNDER_20']\n",
    "\n"
   ]
  },
  {
   "cell_type": "code",
   "execution_count": 1027,
   "id": "fb24d3fe",
   "metadata": {},
   "outputs": [],
   "source": [
    "# add the state field, this will help for mapping\n",
    "weather_df['STATE'] = state"
   ]
  },
  {
   "cell_type": "code",
   "execution_count": 1028,
   "id": "a8f8c6e7",
   "metadata": {},
   "outputs": [],
   "source": [
    "# write the output csv file\n",
    "weather_df.to_csv(outpath, index=False)"
   ]
  },
  {
   "cell_type": "code",
   "execution_count": null,
   "id": "0e4723a5",
   "metadata": {},
   "outputs": [],
   "source": []
  }
 ],
 "metadata": {
  "kernelspec": {
   "display_name": "Python 3 (ipykernel)",
   "language": "python",
   "name": "python3"
  },
  "language_info": {
   "codemirror_mode": {
    "name": "ipython",
    "version": 3
   },
   "file_extension": ".py",
   "mimetype": "text/x-python",
   "name": "python",
   "nbconvert_exporter": "python",
   "pygments_lexer": "ipython3",
   "version": "3.9.13"
  }
 },
 "nbformat": 4,
 "nbformat_minor": 5
}
