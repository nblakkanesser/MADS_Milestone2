{
 "cells": [
  {
   "cell_type": "code",
   "execution_count": 757,
   "id": "ec258cb2",
   "metadata": {},
   "outputs": [],
   "source": [
    "import pandas as pd\n",
    "import numpy as np\n",
    "pd.options.mode.chained_assignment = None  # default='warn'"
   ]
  },
  {
   "cell_type": "code",
   "execution_count": 758,
   "id": "20da8f30",
   "metadata": {},
   "outputs": [],
   "source": [
    "state = 'WA'\n",
    "year = '2023'\n",
    "inpath = 'F:/Libraries/My Documents/UM/Milestone II/Weather_' + state + '_' + year + '.csv'\n",
    "outpath = 'F:/Libraries/My Documents/UM/Milestone II/Weather_' + state + '_' + year + '_cleaned2.csv'"
   ]
  },
  {
   "cell_type": "code",
   "execution_count": 759,
   "id": "5c761f2a",
   "metadata": {},
   "outputs": [],
   "source": [
    "weather_df = pd.read_csv(inpath, low_memory=False)"
   ]
  },
  {
   "cell_type": "code",
   "execution_count": 760,
   "id": "3a5e145a",
   "metadata": {},
   "outputs": [],
   "source": [
    "# remove that last blank row with the odd character in the station column\n",
    "weather_df = weather_df.dropna()"
   ]
  },
  {
   "cell_type": "code",
   "execution_count": 761,
   "id": "0da2200a",
   "metadata": {},
   "outputs": [],
   "source": [
    "# drop the 'attributes' columns and other columns that we don't want\n",
    "weather_df = weather_df.drop(['TEMP_ATTRIBUTES', 'DEWP_ATTRIBUTES', 'SLP_ATTRIBUTES', 'STP_ATTRIBUTES', 'VISIB_ATTRIBUTES', \\\n",
    "                              'WDSP_ATTRIBUTES', 'MAX_ATTRIBUTES', 'MIN_ATTRIBUTES', 'PRCP_ATTRIBUTES', \\\n",
    "                              'SLP', 'STP', 'FRSHTT'], axis=1)"
   ]
  },
  {
   "cell_type": "code",
   "execution_count": 762,
   "id": "ee40afa1",
   "metadata": {},
   "outputs": [],
   "source": [
    "# remove duplicate header rows\n",
    "weather_df = weather_df[weather_df['STATION'] != 'STATION']"
   ]
  },
  {
   "cell_type": "code",
   "execution_count": 763,
   "id": "faaa7bda",
   "metadata": {},
   "outputs": [],
   "source": [
    "to_numeric_list = ['TEMP', 'DEWP', 'VISIB', 'WDSP', 'MXSPD', 'GUST', 'MAX', 'MIN', 'PRCP', 'SNDP']\n",
    "weather_df[to_numeric_list] = weather_df[to_numeric_list].apply(pd.to_numeric)"
   ]
  },
  {
   "cell_type": "code",
   "execution_count": 764,
   "id": "9a00b573",
   "metadata": {},
   "outputs": [],
   "source": [
    "# clean up dummy 9s values\n",
    "weather_df.loc[weather_df['TEMP'] >= 999, 'TEMP'] = 50 # not sure this ever happens...\n",
    "weather_df.loc[weather_df['WDSP'] >= 999, 'WDSP'] = 0\n",
    "weather_df.loc[weather_df['MXSPD'] >= 999, 'MXSPD'] = 0\n",
    "weather_df.loc[weather_df['GUST'] >= 999, 'GUST'] = 0\n",
    "weather_df.loc[weather_df['PRCP'] >= 99, 'PRCP'] = 0\n",
    "weather_df.loc[weather_df['SNDP'] >= 999, 'SNDP'] = 0\n",
    "weather_df.loc[weather_df['DEWP'] >= 9999, 'DEWP'] = weather_df['TEMP'] - 15 # avg in relation to temp\n",
    "weather_df.loc[weather_df['VISIB'] >= 999, 'VISIB'] = 9.3 # avg"
   ]
  },
  {
   "cell_type": "code",
   "execution_count": 765,
   "id": "50350880",
   "metadata": {},
   "outputs": [],
   "source": [
    "# if MAX temp is below average temp (must be a dummy value), set to average temp of the day\n",
    "# if MIN temp is above average temp (must be a dummy value), set to average temp of the day\n",
    "for i in weather_df.index:\n",
    "    daily_avg_temp = weather_df['TEMP'][i]\n",
    "    if weather_df['MAX'][i] < daily_avg_temp:\n",
    "        weather_df['MAX'][i] = daily_avg_temp\n",
    "    if weather_df['MAX'][i] >= 999:\n",
    "        weather_df['MAX'][i] = daily_avg_temp\n",
    "    if weather_df['MIN'][i] > daily_avg_temp:\n",
    "        weather_df['MIN'][i] = daily_avg_temp"
   ]
  },
  {
   "cell_type": "code",
   "execution_count": 766,
   "id": "2d9367cc",
   "metadata": {},
   "outputs": [],
   "source": [
    "# create new temp extremity measures\n",
    "\n",
    "# default to 0\n",
    "weather_df['TEMPEXT_BASE40'] = abs(weather_df['TEMP']-40)\n",
    "weather_df['TEMPEXT_BASE45'] = abs(weather_df['TEMP']-45)\n",
    "weather_df['TEMPEXT_BASE50'] = abs(weather_df['TEMP']-50)\n",
    "    "
   ]
  },
  {
   "cell_type": "code",
   "execution_count": 767,
   "id": "4fd91632",
   "metadata": {},
   "outputs": [],
   "source": [
    "# create new temp bounds variables, default 0\n",
    "weather_df['OVER_60'] = 0\n",
    "weather_df['OVER_70'] = 0\n",
    "weather_df['OVER_80'] = 0\n",
    "weather_df['UNDER_40'] = 0\n",
    "weather_df['UNDER_30'] = 0\n",
    "weather_df['UNDER_20'] = 0\n",
    "weather_df['SUM_OVER_UNDER'] = 0\n",
    "\n",
    "# set new temp bounds variables\n",
    "weather_df.loc[weather_df['TEMP'] >= 60, 'OVER_60'] = 1\n",
    "weather_df.loc[weather_df['TEMP'] >= 70, 'OVER_70'] = 1\n",
    "weather_df.loc[weather_df['TEMP'] >= 80, 'OVER_80'] = 1\n",
    "weather_df.loc[weather_df['TEMP'] <= 40, 'UNDER_40'] = 1\n",
    "weather_df.loc[weather_df['TEMP'] <= 30, 'UNDER_30'] = 1\n",
    "weather_df.loc[weather_df['TEMP'] <= 20, 'UNDER_20'] = 1\n",
    "weather_df['SUM_OVER_UNDER'] = weather_df['OVER_60'] + weather_df['OVER_70'] + weather_df['OVER_80'] + \\\n",
    "                               weather_df['UNDER_40'] + weather_df['UNDER_30'] + weather_df['UNDER_20']\n",
    "\n"
   ]
  },
  {
   "cell_type": "code",
   "execution_count": 768,
   "id": "f493fdb8",
   "metadata": {},
   "outputs": [],
   "source": [
    "weather_df.to_csv(outpath, index=False)"
   ]
  },
  {
   "cell_type": "code",
   "execution_count": null,
   "id": "27e13c35",
   "metadata": {},
   "outputs": [],
   "source": []
  }
 ],
 "metadata": {
  "kernelspec": {
   "display_name": "Python 3 (ipykernel)",
   "language": "python",
   "name": "python3"
  },
  "language_info": {
   "codemirror_mode": {
    "name": "ipython",
    "version": 3
   },
   "file_extension": ".py",
   "mimetype": "text/x-python",
   "name": "python",
   "nbconvert_exporter": "python",
   "pygments_lexer": "ipython3",
   "version": "3.9.13"
  }
 },
 "nbformat": 4,
 "nbformat_minor": 5
}
