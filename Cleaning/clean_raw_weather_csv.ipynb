{
 "cells": [
  {
   "cell_type": "code",
   "execution_count": 395,
   "id": "7cddde3e",
   "metadata": {},
   "outputs": [],
   "source": [
    "import pandas as pd\n",
    "import numpy as np\n",
    "pd.options.mode.chained_assignment = None  # default='warn'"
   ]
  },
  {
   "cell_type": "code",
   "execution_count": 396,
   "id": "13d92769",
   "metadata": {},
   "outputs": [],
   "source": [
    "state = 'WA'\n",
    "year = '2023'\n",
    "inpath = 'F:/Libraries/My Documents/UM/Milestone II/Weather_' + state + '_' + year + '.csv'\n",
    "outpath = 'F:/Libraries/My Documents/UM/Milestone II/Weather_' + state + '_' + year + '_cleaned.csv'"
   ]
  },
  {
   "cell_type": "code",
   "execution_count": 397,
   "id": "55f69ace",
   "metadata": {},
   "outputs": [],
   "source": [
    "weather_df = pd.read_csv(inpath, low_memory=False)"
   ]
  },
  {
   "cell_type": "code",
   "execution_count": 398,
   "id": "9f297963",
   "metadata": {},
   "outputs": [],
   "source": [
    "# remove that last blank row with the odd character in the station column\n",
    "weather_df = weather_df.dropna()"
   ]
  },
  {
   "cell_type": "code",
   "execution_count": 399,
   "id": "7d032034",
   "metadata": {},
   "outputs": [],
   "source": [
    "# drop the 'attributes' columns and other columns that we don't want\n",
    "weather_df = weather_df.drop(['TEMP_ATTRIBUTES', 'DEWP_ATTRIBUTES', 'SLP_ATTRIBUTES', 'STP_ATTRIBUTES', 'VISIB_ATTRIBUTES',\\\n",
    "                              'WDSP_ATTRIBUTES', 'MAX_ATTRIBUTES', 'MIN_ATTRIBUTES', 'PRCP_ATTRIBUTES',\\\n",
    "                              'SLP', 'STP', 'DEWP', 'VISIB', 'FRSHTT'], axis=1)"
   ]
  },
  {
   "cell_type": "code",
   "execution_count": 400,
   "id": "b0e32620",
   "metadata": {},
   "outputs": [],
   "source": [
    "# remove duplicate header rows\n",
    "weather_df = weather_df[weather_df['STATION'] != 'STATION']"
   ]
  },
  {
   "cell_type": "code",
   "execution_count": 401,
   "id": "2e7c38a9",
   "metadata": {},
   "outputs": [],
   "source": [
    "to_numeric_list = ['TEMP', 'WDSP', 'MXSPD', 'GUST', 'MAX', 'MIN', 'PRCP', 'SNDP']\n",
    "weather_df[to_numeric_list] = weather_df[to_numeric_list].apply(pd.to_numeric)"
   ]
  },
  {
   "cell_type": "code",
   "execution_count": 402,
   "id": "7f13cece",
   "metadata": {},
   "outputs": [],
   "source": [
    "# clean up dummy 9s values\n",
    "weather_df.loc[weather_df['TEMP'] >= 999, 'TEMP'] = 50 # not sure this ever happens...\n",
    "weather_df.loc[weather_df['WDSP'] >= 999, 'WDSP'] = 0\n",
    "weather_df.loc[weather_df['MXSPD'] >= 999, 'MXSPD'] = 0\n",
    "weather_df.loc[weather_df['GUST'] >= 999, 'GUST'] = 0\n",
    "weather_df.loc[weather_df['PRCP'] >= 99, 'PRCP'] = 0\n",
    "weather_df.loc[weather_df['SNDP'] >= 999, 'SNDP'] = 0"
   ]
  },
  {
   "cell_type": "code",
   "execution_count": 403,
   "id": "f4f687b2",
   "metadata": {},
   "outputs": [],
   "source": [
    "# if MAX temp is below average temp (must be a dummy value), set to average temp of the day\n",
    "# if MIN temp is above average temp (must be a dummy value), set to average temp of the day\n",
    "for i in weather_df.index:\n",
    "    daily_avg_temp = weather_df['TEMP'][i]\n",
    "    if weather_df['MAX'][i] < daily_avg_temp:\n",
    "        weather_df['MAX'][i] = daily_avg_temp\n",
    "    if weather_df['MAX'][i] >= 999:\n",
    "        weather_df['MAX'][i] = daily_avg_temp\n",
    "    if weather_df['MIN'][i] > daily_avg_temp:\n",
    "        weather_df['MIN'][i] = daily_avg_temp"
   ]
  },
  {
   "cell_type": "code",
   "execution_count": 404,
   "id": "ef1c9635",
   "metadata": {},
   "outputs": [],
   "source": [
    "# create new temp extremity measure\n",
    "\n",
    "# default to 0\n",
    "weather_df['TEMPEXT_BASE40'] = abs(weather_df['TEMP']-40)\n",
    "weather_df['TEMPEXT_BASE45'] = abs(weather_df['TEMP']-45)\n",
    "weather_df['TEMPEXT_BASE50'] = abs(weather_df['TEMP']-50)\n",
    "    "
   ]
  },
  {
   "cell_type": "code",
   "execution_count": 405,
   "id": "3e1bcb5b",
   "metadata": {},
   "outputs": [],
   "source": [
    "weather_df.to_csv(outpath, index=False)"
   ]
  },
  {
   "cell_type": "code",
   "execution_count": null,
   "id": "f2e1e7b1",
   "metadata": {},
   "outputs": [],
   "source": []
  }
 ],
 "metadata": {
  "kernelspec": {
   "display_name": "Python 3 (ipykernel)",
   "language": "python",
   "name": "python3"
  },
  "language_info": {
   "codemirror_mode": {
    "name": "ipython",
    "version": 3
   },
   "file_extension": ".py",
   "mimetype": "text/x-python",
   "name": "python",
   "nbconvert_exporter": "python",
   "pygments_lexer": "ipython3",
   "version": "3.9.13"
  }
 },
 "nbformat": 4,
 "nbformat_minor": 5
}
